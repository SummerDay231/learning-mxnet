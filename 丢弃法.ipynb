{
 "cells": [
  {
   "cell_type": "code",
   "execution_count": 1,
   "metadata": {
    "ExecuteTime": {
     "end_time": "2019-05-02T14:53:42.224885Z",
     "start_time": "2019-05-02T14:53:32.138580Z"
    }
   },
   "outputs": [],
   "source": [
    "import d2lzh as d2l\n",
    "from mxnet import autograd, gluon, init, nd\n",
    "from mxnet.gluon import loss as gloss, nn\n",
    "\n",
    "def dropout(X, drop_prob):\n",
    "    assert 0<= drop_prob <= 1\n",
    "    keep_prob = 1 - drop_prob\n",
    "    \n",
    "    if keep_prob == 0:\n",
    "        return X.zeros_like()\n",
    "    mask = nd.random.uniform(0, 1, X.shape) < keep_prob\n",
    "    return mask * X / keep_prob"
   ]
  },
  {
   "cell_type": "code",
   "execution_count": 2,
   "metadata": {
    "ExecuteTime": {
     "end_time": "2019-05-02T14:54:07.542746Z",
     "start_time": "2019-05-02T14:54:07.486888Z"
    }
   },
   "outputs": [
    {
     "data": {
      "text/plain": [
       "\n",
       "[[ 0.  1.  2.  3.  4.  5.  6.  7.]\n",
       " [ 8.  9. 10. 11. 12. 13. 14. 15.]]\n",
       "<NDArray 2x8 @cpu(0)>"
      ]
     },
     "execution_count": 2,
     "metadata": {},
     "output_type": "execute_result"
    }
   ],
   "source": [
    "X = nd.arange(16).reshape((2,8))\n",
    "dropout(X, 0)"
   ]
  },
  {
   "cell_type": "code",
   "execution_count": 3,
   "metadata": {
    "ExecuteTime": {
     "end_time": "2019-05-02T14:54:22.874362Z",
     "start_time": "2019-05-02T14:54:22.867418Z"
    }
   },
   "outputs": [
    {
     "data": {
      "text/plain": [
       "\n",
       "[[ 0.  2.  4.  6.  0.  0.  0. 14.]\n",
       " [ 0. 18.  0.  0. 24. 26. 28.  0.]]\n",
       "<NDArray 2x8 @cpu(0)>"
      ]
     },
     "execution_count": 3,
     "metadata": {},
     "output_type": "execute_result"
    }
   ],
   "source": [
    "dropout(X, 0.5)"
   ]
  },
  {
   "cell_type": "code",
   "execution_count": 4,
   "metadata": {
    "ExecuteTime": {
     "end_time": "2019-05-02T15:02:30.195689Z",
     "start_time": "2019-05-02T15:02:30.190232Z"
    }
   },
   "outputs": [
    {
     "data": {
      "text/plain": [
       "\n",
       "[[0. 0. 0. 0. 0. 0. 0. 0.]\n",
       " [0. 0. 0. 0. 0. 0. 0. 0.]]\n",
       "<NDArray 2x8 @cpu(0)>"
      ]
     },
     "execution_count": 4,
     "metadata": {},
     "output_type": "execute_result"
    }
   ],
   "source": [
    "dropout(X, 1)"
   ]
  },
  {
   "cell_type": "code",
   "execution_count": 6,
   "metadata": {
    "ExecuteTime": {
     "end_time": "2019-05-02T15:08:19.177176Z",
     "start_time": "2019-05-02T15:08:19.170728Z"
    }
   },
   "outputs": [],
   "source": [
    "num_inputs, num_outputs, num_hiddens1, num_hiddens2 = 784, 10, 256, 256\n",
    "\n",
    "W1 = nd.random.normal(scale=0.01, shape=(num_inputs, num_hiddens1))\n",
    "b1 = nd.zeros(num_hiddens1)\n",
    "W2 = nd.random.normal(scale=0.01, shape=(num_hiddens1, num_hiddens2))\n",
    "b2 = nd.zeros(num_hiddens2)\n",
    "W3 = nd.random.normal(scale=0.01, shape=(num_hiddens2, num_outputs))\n",
    "b3 = nd.zeros(num_outputs)\n",
    "\n",
    "params = [W1, b1, W2, b2, W3, b3]\n",
    "for param in params:\n",
    "    param.attach_grad()"
   ]
  },
  {
   "cell_type": "code",
   "execution_count": 7,
   "metadata": {
    "ExecuteTime": {
     "end_time": "2019-05-02T15:11:30.335856Z",
     "start_time": "2019-05-02T15:11:30.326930Z"
    }
   },
   "outputs": [],
   "source": [
    "drop_prob1, drop_prob2 = 0.2, 0.5\n",
    "\n",
    "def net(X):\n",
    "    X = X.reshape((-1, num_inputs))\n",
    "    H1 = (nd.dot(X, W1) + b1).relu()\n",
    "    if autograd.is_training():\n",
    "        H1 = dropout(H1, drop_prob1)\n",
    "    H2 = (nd.dot(H1, W2) + b2).relu()\n",
    "    if autograd.is_training():\n",
    "        H2 = dropout(H2, drop_prob2)\n",
    "    return nd.dot(H2, W3) + b3"
   ]
  },
  {
   "cell_type": "code",
   "execution_count": 8,
   "metadata": {
    "ExecuteTime": {
     "end_time": "2019-05-02T15:12:24.887028Z",
     "start_time": "2019-05-02T15:11:40.788164Z"
    }
   },
   "outputs": [
    {
     "name": "stdout",
     "output_type": "stream",
     "text": [
      "epoch 1, loss 1.1059, train acc 0.571, test acc 0.782\n",
      "epoch 2, loss 0.5767, train acc 0.785, test acc 0.839\n",
      "epoch 3, loss 0.4887, train acc 0.822, test acc 0.851\n",
      "epoch 4, loss 0.4511, train acc 0.835, test acc 0.857\n",
      "epoch 5, loss 0.4180, train acc 0.848, test acc 0.863\n"
     ]
    }
   ],
   "source": [
    "num_epochs, lr, batch_size = 5, 0.5, 256\n",
    "loss = gloss.SoftmaxCrossEntropyLoss()\n",
    "train_iter, test_iter = d2l.load_data_fashion_mnist(batch_size)\n",
    "d2l.train_ch3(net, train_iter, test_iter, loss, num_epochs, batch_size,\n",
    "              params, lr)"
   ]
  },
  {
   "cell_type": "code",
   "execution_count": 15,
   "metadata": {
    "ExecuteTime": {
     "end_time": "2019-05-02T15:30:13.361541Z",
     "start_time": "2019-05-02T15:30:13.354553Z"
    }
   },
   "outputs": [],
   "source": [
    "net = nn.Sequential()\n",
    "net.add(nn.Dense(256, activation='relu'),\n",
    "        nn.Dropout(drop_prob1),\n",
    "        nn.Dense(256, activation='relu'),\n",
    "        nn.Dropout(drop_prob2),\n",
    "        nn.Dense(10))\n",
    "net.initialize(init.Normal(sigma=0.01))"
   ]
  },
  {
   "cell_type": "code",
   "execution_count": 12,
   "metadata": {
    "ExecuteTime": {
     "end_time": "2019-05-02T15:28:09.154891Z",
     "start_time": "2019-05-02T15:27:28.394605Z"
    }
   },
   "outputs": [
    {
     "name": "stdout",
     "output_type": "stream",
     "text": [
      "epoch 1, loss 1.1925, train acc 0.538, test acc 0.771\n",
      "epoch 2, loss 0.5894, train acc 0.782, test acc 0.832\n",
      "epoch 3, loss 0.4972, train acc 0.819, test acc 0.833\n",
      "epoch 4, loss 0.4553, train acc 0.835, test acc 0.860\n",
      "epoch 5, loss 0.4196, train acc 0.848, test acc 0.864\n"
     ]
    }
   ],
   "source": [
    "trainer = gluon.Trainer(net.collect_params(), 'sgd', {'learning_rate': lr})\n",
    "d2l.train_ch3(net, train_iter, test_iter, loss, num_epochs, batch_size, None,\n",
    "              None, trainer)"
   ]
  },
  {
   "cell_type": "code",
   "execution_count": 14,
   "metadata": {
    "ExecuteTime": {
     "end_time": "2019-05-02T15:29:38.154164Z",
     "start_time": "2019-05-02T15:28:58.327351Z"
    }
   },
   "outputs": [
    {
     "name": "stdout",
     "output_type": "stream",
     "text": [
      "epoch 1, loss 1.1593, train acc 0.550, test acc 0.785\n",
      "epoch 2, loss 0.6027, train acc 0.772, test acc 0.832\n",
      "epoch 3, loss 0.5193, train acc 0.808, test acc 0.841\n",
      "epoch 4, loss 0.4742, train acc 0.825, test acc 0.842\n",
      "epoch 5, loss 0.4505, train acc 0.834, test acc 0.861\n"
     ]
    }
   ],
   "source": [
    "trainer = gluon.Trainer(net.collect_params(), 'sgd', {'learning_rate': lr})\n",
    "d2l.train_ch3(net, train_iter, test_iter, loss, num_epochs, batch_size, None,\n",
    "              None, trainer)"
   ]
  },
  {
   "cell_type": "code",
   "execution_count": 16,
   "metadata": {
    "ExecuteTime": {
     "end_time": "2019-05-02T15:33:03.971424Z",
     "start_time": "2019-05-02T15:30:22.569553Z"
    }
   },
   "outputs": [
    {
     "name": "stdout",
     "output_type": "stream",
     "text": [
      "epoch 1, loss 1.1088, train acc 0.569, test acc 0.765\n",
      "epoch 2, loss 0.5707, train acc 0.786, test acc 0.846\n",
      "epoch 3, loss 0.4866, train acc 0.821, test acc 0.846\n",
      "epoch 4, loss 0.4407, train acc 0.839, test acc 0.865\n",
      "epoch 5, loss 0.4252, train acc 0.846, test acc 0.866\n",
      "epoch 6, loss 0.3938, train acc 0.856, test acc 0.871\n",
      "epoch 7, loss 0.3739, train acc 0.864, test acc 0.872\n",
      "epoch 8, loss 0.3651, train acc 0.867, test acc 0.869\n",
      "epoch 9, loss 0.3502, train acc 0.872, test acc 0.878\n",
      "epoch 10, loss 0.3429, train acc 0.875, test acc 0.883\n",
      "epoch 11, loss 0.3333, train acc 0.877, test acc 0.881\n",
      "epoch 12, loss 0.3280, train acc 0.880, test acc 0.882\n",
      "epoch 13, loss 0.3199, train acc 0.883, test acc 0.884\n",
      "epoch 14, loss 0.3137, train acc 0.884, test acc 0.884\n",
      "epoch 15, loss 0.3061, train acc 0.886, test acc 0.892\n",
      "epoch 16, loss 0.2970, train acc 0.890, test acc 0.890\n",
      "epoch 17, loss 0.2973, train acc 0.889, test acc 0.886\n",
      "epoch 18, loss 0.2968, train acc 0.890, test acc 0.883\n",
      "epoch 19, loss 0.2876, train acc 0.892, test acc 0.885\n",
      "epoch 20, loss 0.2802, train acc 0.896, test acc 0.890\n"
     ]
    }
   ],
   "source": [
    "trainer = gluon.Trainer(net.collect_params(), 'sgd', {'learning_rate': lr})\n",
    "d2l.train_ch3(net, train_iter, test_iter, loss, 20, batch_size, None,\n",
    "              None, trainer)"
   ]
  },
  {
   "cell_type": "code",
   "execution_count": 17,
   "metadata": {
    "ExecuteTime": {
     "end_time": "2019-05-02T15:33:04.066160Z",
     "start_time": "2019-05-02T15:33:04.054256Z"
    }
   },
   "outputs": [],
   "source": [
    "net2 = nn.Sequential()\n",
    "net2.add(nn.Dense(256, activation='relu'),\n",
    "        #nn.Dropout(drop_prob1),\n",
    "        nn.Dense(256, activation='relu'),\n",
    "        #nn.Dropout(drop_prob2),\n",
    "        nn.Dense(10))\n",
    "net2.initialize(init.Normal(sigma=0.01))"
   ]
  },
  {
   "cell_type": "code",
   "execution_count": 18,
   "metadata": {
    "ExecuteTime": {
     "end_time": "2019-05-02T15:35:31.468758Z",
     "start_time": "2019-05-02T15:33:05.202328Z"
    }
   },
   "outputs": [
    {
     "name": "stdout",
     "output_type": "stream",
     "text": [
      "epoch 1, loss 1.1491, train acc 0.557, test acc 0.780\n",
      "epoch 2, loss 0.5418, train acc 0.793, test acc 0.830\n",
      "epoch 3, loss 1.3126, train acc 0.612, test acc 0.745\n",
      "epoch 4, loss 0.5870, train acc 0.775, test acc 0.823\n",
      "epoch 5, loss 0.4746, train acc 0.824, test acc 0.844\n",
      "epoch 6, loss 0.4312, train acc 0.840, test acc 0.857\n",
      "epoch 7, loss 0.4073, train acc 0.849, test acc 0.856\n",
      "epoch 8, loss 0.3919, train acc 0.854, test acc 0.862\n",
      "epoch 9, loss 0.3913, train acc 0.856, test acc 0.866\n",
      "epoch 10, loss 0.3682, train acc 0.863, test acc 0.862\n",
      "epoch 11, loss 0.3622, train acc 0.865, test acc 0.874\n",
      "epoch 12, loss 0.3554, train acc 0.868, test acc 0.866\n",
      "epoch 13, loss 0.3422, train acc 0.872, test acc 0.863\n",
      "epoch 14, loss 0.3379, train acc 0.875, test acc 0.872\n",
      "epoch 15, loss 0.3305, train acc 0.877, test acc 0.871\n",
      "epoch 16, loss 0.3239, train acc 0.879, test acc 0.879\n",
      "epoch 17, loss 0.3152, train acc 0.882, test acc 0.876\n",
      "epoch 18, loss 0.3108, train acc 0.885, test acc 0.871\n",
      "epoch 19, loss 0.3089, train acc 0.885, test acc 0.875\n",
      "epoch 20, loss 0.3013, train acc 0.888, test acc 0.882\n"
     ]
    }
   ],
   "source": [
    "trainer = gluon.Trainer(net2.collect_params(), 'sgd', {'learning_rate': lr})\n",
    "d2l.train_ch3(net2, train_iter, test_iter, loss, 20, batch_size, None,\n",
    "              None, trainer)"
   ]
  },
  {
   "cell_type": "code",
   "execution_count": null,
   "metadata": {},
   "outputs": [],
   "source": []
  }
 ],
 "metadata": {
  "kernelspec": {
   "display_name": "gluon",
   "language": "python",
   "name": "gluon"
  },
  "language_info": {
   "codemirror_mode": {
    "name": "ipython",
    "version": 3
   },
   "file_extension": ".py",
   "mimetype": "text/x-python",
   "name": "python",
   "nbconvert_exporter": "python",
   "pygments_lexer": "ipython3",
   "version": "3.6.8"
  },
  "toc": {
   "base_numbering": 1,
   "nav_menu": {},
   "number_sections": true,
   "sideBar": true,
   "skip_h1_title": false,
   "title_cell": "Table of Contents",
   "title_sidebar": "Contents",
   "toc_cell": false,
   "toc_position": {},
   "toc_section_display": true,
   "toc_window_display": false
  },
  "varInspector": {
   "cols": {
    "lenName": 16,
    "lenType": 16,
    "lenVar": 40
   },
   "kernels_config": {
    "python": {
     "delete_cmd_postfix": "",
     "delete_cmd_prefix": "del ",
     "library": "var_list.py",
     "varRefreshCmd": "print(var_dic_list())"
    },
    "r": {
     "delete_cmd_postfix": ") ",
     "delete_cmd_prefix": "rm(",
     "library": "var_list.r",
     "varRefreshCmd": "cat(var_dic_list()) "
    }
   },
   "types_to_exclude": [
    "module",
    "function",
    "builtin_function_or_method",
    "instance",
    "_Feature"
   ],
   "window_display": false
  }
 },
 "nbformat": 4,
 "nbformat_minor": 2
}
